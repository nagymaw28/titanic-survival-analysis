{
 "cells": [
  {
   "cell_type": "markdown",
   "id": "1d959356",
   "metadata": {},
   "source": [
    "# Titanic Survival Analysis Project\n",
    "\n",
    "This project explores the Titanic dataset to understand the relationships between passenger demographics and survival outcomes. It uses Python for data cleaning, visualization, and basic exploratory analysis.\n",
    "\n",
    "**Key Goals:**\n",
    "- Explore passenger characteristics (age, class, gender)\n",
    "- Visualize survival rates across different groups\n",
    "- Gain practical experience with Pandas, Matplotlib, and Seaborn\n",
    "\n",
    "**Skills Demonstrated:** Python, Pandas, Seaborn, Matplotlib, EDA, Data Cleaning, Data Visualization\n",
    "\n",
    "Dataset Source: [Kaggle Titanic Dataset](https://www.kaggle.com/c/titanic/data)\n"
   ]
  },
  {
   "cell_type": "markdown",
   "id": "a2769a80",
   "metadata": {},
   "source": [
    "## 1. Import Libraries"
   ]
  },
  {
   "cell_type": "code",
   "execution_count": null,
   "id": "7342dca5",
   "metadata": {},
   "outputs": [],
   "source": [
    "import pandas as pd\n",
    "import numpy as np\n",
    "import matplotlib.pyplot as plt\n",
    "import seaborn as sns\n",
    "\n",
    "%matplotlib inline"
   ]
  },
  {
   "cell_type": "markdown",
   "id": "c530aa5d",
   "metadata": {},
   "source": [
    "## 2. Load the Dataset"
   ]
  },
  {
   "cell_type": "code",
   "execution_count": null,
   "id": "a21a667b",
   "metadata": {},
   "outputs": [],
   "source": [
    "df = pd.read_csv('titanic.csv')\n",
    "df.head()"
   ]
  },
  {
   "cell_type": "markdown",
   "id": "61586d77",
   "metadata": {},
   "source": [
    "## 3. Data Cleaning and Preprocessing"
   ]
  },
  {
   "cell_type": "code",
   "execution_count": null,
   "id": "b17c5a47",
   "metadata": {},
   "outputs": [],
   "source": [
    "# Checking for missing values\n",
    "df.isnull().sum()"
   ]
  },
  {
   "cell_type": "markdown",
   "id": "213dba97",
   "metadata": {},
   "source": [
    "## 4. Exploratory Data Analysis (EDA)"
   ]
  },
  {
   "cell_type": "code",
   "execution_count": null,
   "id": "2f6fe649",
   "metadata": {},
   "outputs": [],
   "source": [
    "df.describe()"
   ]
  },
  {
   "cell_type": "markdown",
   "id": "b8c57199",
   "metadata": {},
   "source": [
    "## 5. Visualizations"
   ]
  },
  {
   "cell_type": "code",
   "execution_count": null,
   "id": "680a8b02",
   "metadata": {},
   "outputs": [],
   "source": [
    "# Survival Count\n",
    "sns.countplot(x='Survived', data=df)\n",
    "plt.title('Survival Count')\n",
    "plt.show()"
   ]
  },
  {
   "cell_type": "code",
   "execution_count": null,
   "id": "5e3ca09a",
   "metadata": {},
   "outputs": [],
   "source": [
    "# Survival by Class\n",
    "sns.countplot(x='Pclass', hue='Survived', data=df)\n",
    "plt.title('Survival by Passenger Class')\n",
    "plt.show()"
   ]
  },
  {
   "cell_type": "code",
   "execution_count": null,
   "id": "d3b9ec45",
   "metadata": {},
   "outputs": [],
   "source": [
    "# Survival by Gender\n",
    "sns.countplot(x='Sex', hue='Survived', data=df)\n",
    "plt.title('Survival by Gender')\n",
    "plt.show()"
   ]
  },
  {
   "cell_type": "markdown",
   "id": "610e95d1",
   "metadata": {},
   "source": [
    "## 6. Insights and Observations"
   ]
  },
  {
   "cell_type": "markdown",
   "id": "c22ef8d3",
   "metadata": {},
   "source": [
    "* Women had a higher survival rate than men.\n",
    "* First-class passengers had better survival chances than lower classes.\n",
    "* Children (younger ages) also had higher survival rates."
   ]
  },
  {
   "cell_type": "markdown",
   "id": "e13c36b8",
   "metadata": {},
   "source": [
    "## 7. Conclusion"
   ]
  },
  {
   "cell_type": "markdown",
   "id": "368d6305",
   "metadata": {},
   "source": [
    "This project provided insights into survival patterns using basic Python visualization tools. The Titanic dataset remains a powerful example for practicing EDA and data storytelling."
   ]
  }
 ],
 "metadata": {},
 "nbformat": 4,
 "nbformat_minor": 5
}
